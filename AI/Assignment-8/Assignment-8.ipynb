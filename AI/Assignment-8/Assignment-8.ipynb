{
  "nbformat": 4,
  "nbformat_minor": 0,
  "metadata": {
    "colab": {
      "provenance": []
    },
    "kernelspec": {
      "name": "python3",
      "display_name": "Python 3"
    },
    "language_info": {
      "name": "python"
    }
  },
  "cells": [
    {
      "cell_type": "code",
      "execution_count": 2,
      "metadata": {
        "colab": {
          "base_uri": "https://localhost:8080/"
        },
        "id": "Xn1bdeHq02Ff",
        "outputId": "e1cefa88-d173-4ee8-8e7e-9bfe2b61c299"
      },
      "outputs": [
        {
          "output_type": "stream",
          "name": "stdout",
          "text": [
            "Checking if cloudy is true to achieve rain.\n",
            "Checking if humid is true to achieve cloudy.\n",
            "Checking if high_temperature is true to achieve humid.\n",
            "Goal high_temperature is a known fact.\n",
            "All conditions for humid are satisfied.\n",
            "All conditions for cloudy are satisfied.\n",
            "All conditions for rain are satisfied.\n",
            "The goal rain is true.\n"
          ]
        }
      ],
      "source": [
        "# Define rules and facts\n",
        "class BackwardChaining:\n",
        "    def __init__(self):\n",
        "        # Rules in the format: {conclusion: [conditions]}\n",
        "        self.rules = {\n",
        "            \"rain\": [\"cloudy\"],\n",
        "            \"cloudy\": [\"humid\"],\n",
        "            \"humid\": [\"high_temperature\"]\n",
        "        }\n",
        "        # Facts that are known\n",
        "        self.facts = {\"high_temperature\"}\n",
        "\n",
        "    # Backward chaining function\n",
        "    def backward_chain(self, goal):\n",
        "        if goal in self.facts:\n",
        "            print(f\"Goal {goal} is a known fact.\")\n",
        "            return True\n",
        "\n",
        "        if goal not in self.rules:\n",
        "            print(f\"Goal {goal} has no rules, and it is not a known fact.\")\n",
        "            return False\n",
        "\n",
        "        # Check the conditions for the rule that leads to the goal\n",
        "        for condition in self.rules[goal]:\n",
        "            print(f\"Checking if {condition} is true to achieve {goal}.\")\n",
        "            if not self.backward_chain(condition):\n",
        "                print(f\"Failed to prove {condition}, so {goal} is false.\")\n",
        "                return False\n",
        "\n",
        "        print(f\"All conditions for {goal} are satisfied.\")\n",
        "        return True\n",
        "\n",
        "\n",
        "# Example usage\n",
        "bc = BackwardChaining()\n",
        "goal = \"rain\"\n",
        "result = bc.backward_chain(goal)\n",
        "\n",
        "if result:\n",
        "    print(f\"The goal {goal} is true.\")\n",
        "else:\n",
        "    print(f\"The goal {goal} is false.\")\n"
      ]
    }
  ]
}